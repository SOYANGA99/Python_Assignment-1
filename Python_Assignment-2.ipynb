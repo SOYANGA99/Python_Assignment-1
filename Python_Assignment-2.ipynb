{
 "cells": [
  {
   "cell_type": "code",
   "execution_count": null,
   "id": "fc4327f4-ef08-4f45-be5b-e4eb762cfd28",
   "metadata": {},
   "outputs": [],
   "source": [
    "marks=int(input(\"Enter your marks:-\"))\n",
    "if marks>90:\n",
    "    print(\"Grade is A\")\n",
    "elif marks>80 and marks<=90:\n",
    "    print (\"Grade is B\")\n",
    "elif marks>=60 and marks<=80:\n",
    "    print (\"Grade is C\")\n",
    "elif marks<60:\n",
    "    print (\"Grade is D\")\n",
    "else:\n",
    "    print(\"You arr fail\")"
   ]
  },
  {
   "cell_type": "code",
   "execution_count": null,
   "id": "4d986673-ae14-469a-95d1-d9dabd9abdf3",
   "metadata": {},
   "outputs": [],
   "source": [
    "cost_price=int(input(\"Enter your Tax\"))\n",
    "if cost_price>100000:\n",
    "    print(\"tax is 15%\")\n",
    "elif cost_price>50000 and cost_price<=100000:\n",
    "    print (\"Tax is 10%\")\n",
    "elif cost_price<=50000:\n",
    "    print (\"Tax is 5%\")"
   ]
  },
  {
   "cell_type": "markdown",
   "id": "7f0d8e7e-e4c6-44be-ab04-5ada99dfd03c",
   "metadata": {},
   "source": [
    "##### "
   ]
  },
  {
   "cell_type": "code",
   "execution_count": null,
   "id": "37d95b40-168c-4688-93a0-d0cb5cef4729",
   "metadata": {},
   "outputs": [],
   "source": [
    "city=str(input(\"Enter the city name\"))\n",
    "if city==\"Delhi\":\n",
    "    print(\"Red Fort\")\n",
    "elif city==\"Agra\":\n",
    "    print(\"Taj Mahal\")\n",
    "elif city==\"Jaipur\":\n",
    "    print(\"Jal Mahal\")\n",
    "          "
   ]
  },
  {
   "cell_type": "code",
   "execution_count": null,
   "id": "ec28396e-6e7a-4c52-8243-567388dee52e",
   "metadata": {},
   "outputs": [],
   "source": [
    "#Que-4: Check how many times a given number can be divided by 3 before it is less than or equal to 10.\n",
    "no=int(input(\"Enter a no:-\"))\n",
    "count=0\n",
    "while no>10:\n",
    "    no=no//3\n",
    "    count+=1\n",
    "print(\"The No can be divided by three\", count,\"times\")"
   ]
  },
  {
   "cell_type": "code",
   "execution_count": null,
   "id": "e81fccea-ace5-4500-abee-1598eb773661",
   "metadata": {},
   "outputs": [],
   "source": [
    "#Que-5: Why and When to use while loop in python give a detailed description with example.\n",
    "A while loop will run a piece of code while a condition is True.\n",
    "It will keep executing the desired set of code statements until that condition is no longer True.\n",
    "A while loop will always first check the condition before running. \n",
    "If the condition evaluates to True then the loop will run the code within the loop's body.\n",
    "\n",
    "Example:-\n",
    "\n",
    "number = 0\n",
    "while number <=10:\n",
    "    print(f\"Number is {number}\")\n",
    "    number = number + 1"
   ]
  },
  {
   "cell_type": "code",
   "execution_count": null,
   "id": "ce188814-2187-4cbb-a24c-94a0fd660601",
   "metadata": {},
   "outputs": [],
   "source": [
    "#Que-6 : Use nested while loop to print 3 different pattern.\n",
    "#(I):-\n",
    "row=int(input(\"Enter the rows:-\"))\n",
    "l=1\n",
    "while l<=row:\n",
    "    c=1\n",
    "    while c<=l:\n",
    "        print(\"*\" ,end=\" \")\n",
    "        c+=1\n",
    "    print()\n",
    "    l+=1"
   ]
  },
  {
   "cell_type": "code",
   "execution_count": null,
   "id": "b01514d6-d09d-4ad4-bdbb-c913d84d880a",
   "metadata": {},
   "outputs": [],
   "source": [
    "#(II):-\n",
    "row=int(input(\"Enter the rows:-\"))\n",
    "l=1\n",
    "while l<=row:\n",
    "    c=row\n",
    "    while c<=l:\n",
    "        print(\"*\" ,end=\" \")\n",
    "        c-=1\n",
    "    print()\n",
    "    l+=1"
   ]
  },
  {
   "cell_type": "code",
   "execution_count": 7,
   "id": "5fc342d5-0a8a-4cb3-ad37-86e2d81c2d86",
   "metadata": {},
   "outputs": [
    {
     "name": "stdin",
     "output_type": "stream",
     "text": [
      "Enter the rows:- 5\n"
     ]
    },
    {
     "name": "stdout",
     "output_type": "stream",
     "text": [
      "        * \n",
      "      * * \n",
      "    * * * \n",
      "  * * * * \n",
      "* * * * * \n"
     ]
    }
   ],
   "source": [
    "#(III):-\n",
    "row=int(input(\"Enter the rows:-\"))\n",
    "l=1\n",
    "while l<=row:\n",
    "    c=5\n",
    "    while c>l:\n",
    "        print(\" \",end=\" \")\n",
    "        c-=1\n",
    "    k=l\n",
    "    while k>=1:\n",
    "        print(\"*\",end=\" \")\n",
    "        k-=1\n",
    "    print()\n",
    "    l+=1"
   ]
  },
  {
   "cell_type": "code",
   "execution_count": null,
   "id": "3aa25035-52e1-4fc6-a06f-f9a9a626436c",
   "metadata": {},
   "outputs": [],
   "source": [
    "#Que-7: Reverse a while loop to display numbers from 10 1.\n",
    "no=10\n",
    "while no>=1:\n",
    "    print(no)\n",
    "    no-=1"
   ]
  },
  {
   "cell_type": "code",
   "execution_count": 8,
   "id": "15e72169-ba55-4b70-b1f7-2a090b2e31e8",
   "metadata": {},
   "outputs": [
    {
     "name": "stdout",
     "output_type": "stream",
     "text": [
      "1\n",
      "2\n",
      "3\n",
      "4\n",
      "5\n",
      "6\n",
      "7\n",
      "8\n",
      "9\n",
      "10\n"
     ]
    }
   ],
   "source": [
    "#Que-7: Display numbers from 1-10 by using while loop.\n",
    "no=1\n",
    "while no<=10:\n",
    "    print(no)\n",
    "    no+=1"
   ]
  },
  {
   "cell_type": "code",
   "execution_count": null,
   "id": "c445529f-48be-486d-9680-59e566ab01ea",
   "metadata": {},
   "outputs": [],
   "source": []
  }
 ],
 "metadata": {
  "kernelspec": {
   "display_name": "Python 3 (ipykernel)",
   "language": "python",
   "name": "python3"
  },
  "language_info": {
   "codemirror_mode": {
    "name": "ipython",
    "version": 3
   },
   "file_extension": ".py",
   "mimetype": "text/x-python",
   "name": "python",
   "nbconvert_exporter": "python",
   "pygments_lexer": "ipython3",
   "version": "3.10.6"
  }
 },
 "nbformat": 4,
 "nbformat_minor": 5
}
